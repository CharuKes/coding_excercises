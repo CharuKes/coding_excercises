{
 "cells": [
  {
   "cell_type": "code",
   "execution_count": 1,
   "metadata": {
    "id": "h0LVvvnfJsg5"
   },
   "outputs": [],
   "source": [
    "# Import pandas\n",
    "import pandas as pd"
   ]
  },
  {
   "cell_type": "code",
   "execution_count": 2,
   "metadata": {
    "id": "rv2oLRnPK36J"
   },
   "outputs": [],
   "source": [
    "# Create a DataFrame with balance.txt\n",
    "df = pd.read_csv(\"balance.txt\", sep=\" \")"
   ]
  },
  {
   "cell_type": "markdown",
   "metadata": {
    "id": "_LXpBJXZLYoh"
   },
   "source": [
    "Write the code needed to produce a report that provides the following information:\n",
    "* Compare the average income based on ethnicity. \n",
    "* On average, do married or single people have a higher balance?\n",
    "* What is the highest income in our dataset?\n",
    "* What is the lowest income in our dataset?\n",
    "* How many cards do we have recorded in our dataset? (Hint: use `sum()`)\n",
    "* How many females do we have information for vs how many males? (Hint: use `count()`For a list of all methods for computation of descriptive stats, explore the [pandas documentation](https://pandas.pydata.org/pandas-docs/stable/reference/frame.html#computations-descriptive-stats)). \n",
    "\n",
    "\n"
   ]
  },
  {
   "cell_type": "code",
   "execution_count": 3,
   "metadata": {
    "tags": []
   },
   "outputs": [
    {
     "name": "stdout",
     "output_type": "stream",
     "text": [
      "Average income of Asian enthnicity is: 44.18783333333334\n",
      "Average income of African American enthnicity is: 47.68210101010099\n",
      "Average income of Caucasian enthnicity is: 44.521944723618084\n"
     ]
    }
   ],
   "source": [
    "# Compare the average income based on ethnicity.\n",
    "print(\"Average income of Asian enthnicity is:\",df[df.Ethnicity == \"Asian\"].loc[:,\"Income\"].mean())\n",
    "print(\"Average income of African American enthnicity is:\",df[df.Ethnicity == \"African American\"].loc[:,\"Income\"].mean())\n",
    "print(\"Average income of Caucasian enthnicity is:\",df[df.Ethnicity == \"Caucasian\"].loc[:,\"Income\"].mean())\n",
    "# Based on above observation we can infer that income of African American ethnicity is highest followed by Caucassion and Asian respectivly"
   ]
  },
  {
   "cell_type": "code",
   "execution_count": 4,
   "metadata": {
    "tags": []
   },
   "outputs": [
    {
     "name": "stdout",
     "output_type": "stream",
     "text": [
      "Average balance of married people: 13.388473477498913\n",
      "Average balance of single people: 13.493509015134242\n"
     ]
    }
   ],
   "source": [
    "# On average, do married or single people have a higher balance?\n",
    "# Calculate the mean balance for married and unmarried people\n",
    "df_mean_balance = df.groupby('Married')['Balance'].mean()\n",
    "print('Average balance of married people:', df_mean_balance['Yes'])\n",
    "print('Average balance of single people:', df_mean_balance['No'])\n",
    "# As per result we can infer single people have more balance."
   ]
  },
  {
   "cell_type": "code",
   "execution_count": 5,
   "metadata": {
    "tags": []
   },
   "outputs": [
    {
     "name": "stdout",
     "output_type": "stream",
     "text": [
      "highest income is: 186.634\n"
     ]
    }
   ],
   "source": [
    "# What is the highest income in our dataset?\n",
    "df_highest_income = df.sort_values(by = \"Income\",ascending=False).head(1)\n",
    "print(\"highest income is:\", df_highest_income.iloc[0, 1])"
   ]
  },
  {
   "cell_type": "code",
   "execution_count": 6,
   "metadata": {
    "tags": []
   },
   "outputs": [
    {
     "name": "stdout",
     "output_type": "stream",
     "text": [
      "lowest income is: 10.354\n"
     ]
    }
   ],
   "source": [
    "#What is the lowest income in our dataset?\n",
    "df_lowest_income = df.sort_values(by = \"Income\",ascending=True).head(1)\n",
    "print(\"lowest income is:\", df_lowest_income.iloc[0, 1] )"
   ]
  },
  {
   "cell_type": "code",
   "execution_count": 7,
   "metadata": {
    "tags": []
   },
   "outputs": [
    {
     "name": "stdout",
     "output_type": "stream",
     "text": [
      "Total cards are : 1183\n"
     ]
    }
   ],
   "source": [
    "# How many cards do we have recorded in our dataset?\n",
    "print(\"Total cards are :\",df.loc[:,\"Cards\"].sum())"
   ]
  },
  {
   "cell_type": "code",
   "execution_count": 8,
   "metadata": {
    "tags": []
   },
   "outputs": [
    {
     "name": "stdout",
     "output_type": "stream",
     "text": [
      "Number of females: 207\n",
      "Number of males: 193\n"
     ]
    }
   ],
   "source": [
    "# How many females do we have information for vs how many males?\n",
    "gender_counts = df['Gender'].value_counts()\n",
    "print('Number of females:', gender_counts['Female'])\n",
    "print('Number of males:', gender_counts['Male'])"
   ]
  },
  {
   "cell_type": "code",
   "execution_count": null,
   "metadata": {
    "tags": []
   },
   "outputs": [],
   "source": [
    "\n"
   ]
  }
 ],
 "metadata": {
  "colab": {
   "authorship_tag": "ABX9TyP5J3xG1JXUCQAkP9OLQqdU",
   "provenance": []
  },
  "kernelspec": {
   "display_name": "Python 3 (ipykernel)",
   "language": "python",
   "name": "python3"
  },
  "language_info": {
   "codemirror_mode": {
    "name": "ipython",
    "version": 3
   },
   "file_extension": ".py",
   "mimetype": "text/x-python",
   "name": "python",
   "nbconvert_exporter": "python",
   "pygments_lexer": "ipython3",
   "version": "3.8.16"
  }
 },
 "nbformat": 4,
 "nbformat_minor": 4
}
